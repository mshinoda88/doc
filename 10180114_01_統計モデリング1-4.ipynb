{
 "cells": [
  {
   "cell_type": "markdown",
   "metadata": {},
   "source": [
    "# 統計モデリング\n",
    "#$ conda install -c r r-essentials"
   ]
  },
  {
   "cell_type": "code",
   "execution_count": 1,
   "metadata": {},
   "outputs": [],
   "source": [
    "\"+\" <- function(e1, e2) {\n",
    "    if (is.character(c(e1, e2))) {\n",
    "        paste(e1, e2, sep = \"\")\n",
    "    } else {\n",
    "        base::\"+\"(e1, e2)\n",
    "    }\n",
    "}"
   ]
  },
  {
   "cell_type": "markdown",
   "metadata": {},
   "source": [
    "## 2章 確率分布と統計モデルの最尤推定"
   ]
  },
  {
   "cell_type": "markdown",
   "metadata": {},
   "source": [
    "### データ読み込み"
   ]
  },
  {
   "cell_type": "code",
   "execution_count": 2,
   "metadata": {},
   "outputs": [],
   "source": [
    "# 2-1. 例題：種子数の統計モデリング\n",
    "DIR=\"/var/jupyter/10_r/\"\n",
    "load(DIR + \"data.RData\")"
   ]
  },
  {
   "cell_type": "markdown",
   "metadata": {},
   "source": [
    "### データをみる"
   ]
  },
  {
   "cell_type": "code",
   "execution_count": 3,
   "metadata": {},
   "outputs": [
    {
     "data": {
      "text/html": [
       "<ol class=list-inline>\n",
       "\t<li>2</li>\n",
       "\t<li>2</li>\n",
       "\t<li>4</li>\n",
       "\t<li>6</li>\n",
       "\t<li>4</li>\n",
       "\t<li>5</li>\n",
       "\t<li>2</li>\n",
       "\t<li>3</li>\n",
       "\t<li>1</li>\n",
       "\t<li>2</li>\n",
       "\t<li>0</li>\n",
       "\t<li>4</li>\n",
       "\t<li>3</li>\n",
       "\t<li>3</li>\n",
       "\t<li>3</li>\n",
       "\t<li>3</li>\n",
       "\t<li>4</li>\n",
       "\t<li>2</li>\n",
       "\t<li>7</li>\n",
       "\t<li>2</li>\n",
       "\t<li>4</li>\n",
       "\t<li>3</li>\n",
       "\t<li>3</li>\n",
       "\t<li>3</li>\n",
       "\t<li>4</li>\n",
       "\t<li>3</li>\n",
       "\t<li>7</li>\n",
       "\t<li>5</li>\n",
       "\t<li>3</li>\n",
       "\t<li>1</li>\n",
       "\t<li>7</li>\n",
       "\t<li>6</li>\n",
       "\t<li>4</li>\n",
       "\t<li>6</li>\n",
       "\t<li>5</li>\n",
       "\t<li>2</li>\n",
       "\t<li>4</li>\n",
       "\t<li>7</li>\n",
       "\t<li>2</li>\n",
       "\t<li>2</li>\n",
       "\t<li>6</li>\n",
       "\t<li>2</li>\n",
       "\t<li>4</li>\n",
       "\t<li>5</li>\n",
       "\t<li>4</li>\n",
       "\t<li>5</li>\n",
       "\t<li>1</li>\n",
       "\t<li>3</li>\n",
       "\t<li>2</li>\n",
       "\t<li>3</li>\n",
       "</ol>\n"
      ],
      "text/latex": [
       "\\begin{enumerate*}\n",
       "\\item 2\n",
       "\\item 2\n",
       "\\item 4\n",
       "\\item 6\n",
       "\\item 4\n",
       "\\item 5\n",
       "\\item 2\n",
       "\\item 3\n",
       "\\item 1\n",
       "\\item 2\n",
       "\\item 0\n",
       "\\item 4\n",
       "\\item 3\n",
       "\\item 3\n",
       "\\item 3\n",
       "\\item 3\n",
       "\\item 4\n",
       "\\item 2\n",
       "\\item 7\n",
       "\\item 2\n",
       "\\item 4\n",
       "\\item 3\n",
       "\\item 3\n",
       "\\item 3\n",
       "\\item 4\n",
       "\\item 3\n",
       "\\item 7\n",
       "\\item 5\n",
       "\\item 3\n",
       "\\item 1\n",
       "\\item 7\n",
       "\\item 6\n",
       "\\item 4\n",
       "\\item 6\n",
       "\\item 5\n",
       "\\item 2\n",
       "\\item 4\n",
       "\\item 7\n",
       "\\item 2\n",
       "\\item 2\n",
       "\\item 6\n",
       "\\item 2\n",
       "\\item 4\n",
       "\\item 5\n",
       "\\item 4\n",
       "\\item 5\n",
       "\\item 1\n",
       "\\item 3\n",
       "\\item 2\n",
       "\\item 3\n",
       "\\end{enumerate*}\n"
      ],
      "text/markdown": [
       "1. 2\n",
       "2. 2\n",
       "3. 4\n",
       "4. 6\n",
       "5. 4\n",
       "6. 5\n",
       "7. 2\n",
       "8. 3\n",
       "9. 1\n",
       "10. 2\n",
       "11. 0\n",
       "12. 4\n",
       "13. 3\n",
       "14. 3\n",
       "15. 3\n",
       "16. 3\n",
       "17. 4\n",
       "18. 2\n",
       "19. 7\n",
       "20. 2\n",
       "21. 4\n",
       "22. 3\n",
       "23. 3\n",
       "24. 3\n",
       "25. 4\n",
       "26. 3\n",
       "27. 7\n",
       "28. 5\n",
       "29. 3\n",
       "30. 1\n",
       "31. 7\n",
       "32. 6\n",
       "33. 4\n",
       "34. 6\n",
       "35. 5\n",
       "36. 2\n",
       "37. 4\n",
       "38. 7\n",
       "39. 2\n",
       "40. 2\n",
       "41. 6\n",
       "42. 2\n",
       "43. 4\n",
       "44. 5\n",
       "45. 4\n",
       "46. 5\n",
       "47. 1\n",
       "48. 3\n",
       "49. 2\n",
       "50. 3\n",
       "\n",
       "\n"
      ],
      "text/plain": [
       " [1] 2 2 4 6 4 5 2 3 1 2 0 4 3 3 3 3 4 2 7 2 4 3 3 3 4 3 7 5 3 1 7 6 4 6 5 2 4 7\n",
       "[39] 2 2 6 2 4 5 4 5 1 3 2 3"
      ]
     },
     "metadata": {},
     "output_type": "display_data"
    }
   ],
   "source": [
    "data"
   ]
  },
  {
   "cell_type": "code",
   "execution_count": 4,
   "metadata": {},
   "outputs": [
    {
     "data": {
      "text/html": [
       "50"
      ],
      "text/latex": [
       "50"
      ],
      "text/markdown": [
       "50"
      ],
      "text/plain": [
       "[1] 50"
      ]
     },
     "metadata": {},
     "output_type": "display_data"
    }
   ],
   "source": [
    "length(data)"
   ]
  },
  {
   "cell_type": "code",
   "execution_count": 5,
   "metadata": {},
   "outputs": [
    {
     "data": {
      "text/plain": [
       "   Min. 1st Qu.  Median    Mean 3rd Qu.    Max. \n",
       "   0.00    2.00    3.00    3.56    4.75    7.00 "
      ]
     },
     "metadata": {},
     "output_type": "display_data"
    }
   ],
   "source": [
    "summary(data)"
   ]
  },
  {
   "cell_type": "code",
   "execution_count": 6,
   "metadata": {},
   "outputs": [
    {
     "data": {
      "text/plain": [
       "data\n",
       " 0  1  2  3  4  5  6  7 \n",
       " 1  3 11 12 10  5  4  4 "
      ]
     },
     "metadata": {},
     "output_type": "display_data"
    }
   ],
   "source": [
    "table(data)"
   ]
  },
  {
   "cell_type": "code",
   "execution_count": 7,
   "metadata": {},
   "outputs": [
    {
     "data": {
      "image/png": "[encoded data removed]",
      "text/plain": [
       "Plot with title “Histogram of data”"
      ]
     },
     "metadata": {},
     "output_type": "display_data"
    }
   ],
   "source": [
    "hist(data, breaks=seq(-0.5, 9.5, 1))"
   ]
  },
  {
   "cell_type": "code",
   "execution_count": 8,
   "metadata": {},
   "outputs": [
    {
     "data": {
      "text/html": [
       "2.98612244897959"
      ],
      "text/latex": [
       "2.98612244897959"
      ],
      "text/markdown": [
       "2.98612244897959"
      ],
      "text/plain": [
       "[1] 2.986122"
      ]
     },
     "metadata": {},
     "output_type": "display_data"
    }
   ],
   "source": [
    "var(data)"
   ]
  },
  {
   "cell_type": "code",
   "execution_count": 9,
   "metadata": {},
   "outputs": [
    {
     "data": {
      "text/html": [
       "1.72804006000428"
      ],
      "text/latex": [
       "1.72804006000428"
      ],
      "text/markdown": [
       "1.72804006000428"
      ],
      "text/plain": [
       "[1] 1.72804"
      ]
     },
     "metadata": {},
     "output_type": "display_data"
    }
   ],
   "source": [
    "sd(data)"
   ]
  },
  {
   "cell_type": "code",
   "execution_count": 10,
   "metadata": {},
   "outputs": [
    {
     "data": {
      "text/html": [
       "1.72804006000428"
      ],
      "text/latex": [
       "1.72804006000428"
      ],
      "text/markdown": [
       "1.72804006000428"
      ],
      "text/plain": [
       "[1] 1.72804"
      ]
     },
     "metadata": {},
     "output_type": "display_data"
    }
   ],
   "source": [
    "sqrt(var(data))"
   ]
  },
  {
   "cell_type": "markdown",
   "metadata": {},
   "source": [
    "平均と分散が3前後で比較的近いので、ポアソン分布で近似できそう。"
   ]
  },
  {
   "cell_type": "markdown",
   "metadata": {},
   "source": [
    "### ポアソン分布をプロット"
   ]
  },
  {
   "cell_type": "code",
   "execution_count": 11,
   "metadata": {},
   "outputs": [
    {
     "data": {
      "image/png": "[encoded data removed]",
      "text/plain": [
       "plot without title"
      ]
     },
     "metadata": {},
     "output_type": "display_data"
    }
   ],
   "source": [
    "# 2-2. データと確率分布の対応関係をながめる\n",
    "y = 0:9\n",
    "prob = dpois(y, lambda=3.56)\n",
    "plot(y, prob, type=\"b\", lty=2)"
   ]
  },
  {
   "cell_type": "markdown",
   "metadata": {},
   "source": [
    "### データとポアソン分布の対応をみる"
   ]
  },
  {
   "cell_type": "code",
   "execution_count": 12,
   "metadata": {},
   "outputs": [
    {
     "data": {
      "text/html": [
       "50"
      ],
      "text/latex": [
       "50"
      ],
      "text/markdown": [
       "50"
      ],
      "text/plain": [
       "[1] 50"
      ]
     },
     "metadata": {},
     "output_type": "display_data"
    },
    {
     "data": {
      "image/png": "[encoded data removed]",
      "text/plain": [
       "Plot with title “Histogram of plant.seed”"
      ]
     },
     "metadata": {},
     "output_type": "display_data"
    }
   ],
   "source": [
    "plant.seed = data\n",
    "length(plant.seed)\n",
    "\n",
    "hist(plant.seed, breaks = seq(-0.5, 9.5, 1))\n",
    "points(y, prob * 50)\n",
    "lines(y, prob * 50, lty = 2)"
   ]
  },
  {
   "cell_type": "markdown",
   "metadata": {},
   "source": [
    "### lambda の値ごとのlog likelihoodをみる"
   ]
  },
  {
   "cell_type": "code",
   "execution_count": 13,
   "metadata": {},
   "outputs": [
    {
     "data": {
      "image/png": "[encoded data removed]",
      "text/plain": [
       "Plot with title “lambda= 5.2\n",
       " logL= -111.8”"
      ]
     },
     "metadata": {},
     "output_type": "display_data"
    }
   ],
   "source": [
    "logL <- function(m) sum(dpois(data, m, log = TRUE))\n",
    "\n",
    "plot.poisson <- function(lambda) {\n",
    "  y <- 0:9\n",
    "  prob <- dpois(y, lambda = lambda)\n",
    "\n",
    "  hist(plant.seed, breaks = seq(-0.5, 9.5, 1), ylim = c(0, 15),\n",
    "       main = \"\", xlab = \"\", ylab = \"\")\n",
    "  points(y, prob * 50)\n",
    "  lines(y,  prob * 50, lty = 2)\n",
    "\n",
    "  title(sprintf(\"lambda= %.1f\\n logL= %.1f\", lambda, logL(lambda)))\n",
    "}\n",
    "\n",
    "layout(matrix(1:9, byrow = T, ncol = 3))\n",
    "junk <- sapply(seq(2, 5.2, 0.4), plot.poisson)"
   ]
  },
  {
   "cell_type": "code",
   "execution_count": 14,
   "metadata": {},
   "outputs": [
    {
     "data": {
      "image/png": "[encoded data removed]",
      "text/plain": [
       "plot without title"
      ]
     },
     "metadata": {},
     "output_type": "display_data"
    }
   ],
   "source": [
    "# Likelihood functionの形態をみる\n",
    "logL <- function(m) sum(dpois(data, m, log = TRUE))\n",
    "lambda <- seq(2, 5, 0.1)\n",
    "plot(lambda, sapply(lambda, logL), type = \"b\")"
   ]
  },
  {
   "cell_type": "code",
   "execution_count": 15,
   "metadata": {},
   "outputs": [
    {
     "data": {
      "image/png": "[encoded data removed]",
      "text/plain": [
       "plot without title"
      ]
     },
     "metadata": {},
     "output_type": "display_data"
    }
   ],
   "source": [
    "L <- function(m) prod(dpois(data, m, log = FALSE))\n",
    "plot(lambda, sapply(lambda, L), type = \"b\")"
   ]
  },
  {
   "cell_type": "markdown",
   "metadata": {},
   "source": [
    "### 最尤法を用いるポアソン回帰を行って切片のexp()を求めると同じ値"
   ]
  },
  {
   "cell_type": "code",
   "execution_count": 16,
   "metadata": {},
   "outputs": [
    {
     "data": {
      "text/html": [
       "<strong>(Intercept):</strong> 3.5600000007512"
      ],
      "text/latex": [
       "\\textbf{(Intercept):} 3.5600000007512"
      ],
      "text/markdown": [
       "**(Intercept):** 3.5600000007512"
      ],
      "text/plain": [
       "(Intercept) \n",
       "       3.56 "
      ]
     },
     "metadata": {},
     "output_type": "display_data"
    }
   ],
   "source": [
    "fit.poisson <- glm(plant.seed ~ 1, family = poisson)\n",
    "exp(coef(fit.poisson))"
   ]
  },
  {
   "cell_type": "markdown",
   "metadata": {},
   "source": [
    "## 3章 一般化線形モデル(GLM)"
   ]
  },
  {
   "cell_type": "code",
   "execution_count": 17,
   "metadata": {},
   "outputs": [],
   "source": [
    "d <- read.csv(DIR +　\"data3a.csv\")"
   ]
  },
  {
   "cell_type": "code",
   "execution_count": 18,
   "metadata": {},
   "outputs": [
    {
     "data": {
      "text/html": [
       "<table>\n",
       "<thead><tr><th scope=col>y</th><th scope=col>x</th><th scope=col>f</th></tr></thead>\n",
       "<tbody>\n",
       "\t<tr><td> 6   </td><td> 8.31</td><td>C    </td></tr>\n",
       "\t<tr><td> 6   </td><td> 9.44</td><td>C    </td></tr>\n",
       "\t<tr><td> 6   </td><td> 9.50</td><td>C    </td></tr>\n",
       "\t<tr><td>12   </td><td> 9.07</td><td>C    </td></tr>\n",
       "\t<tr><td>10   </td><td>10.16</td><td>C    </td></tr>\n",
       "\t<tr><td> 4   </td><td> 8.32</td><td>C    </td></tr>\n",
       "\t<tr><td> 9   </td><td>10.61</td><td>C    </td></tr>\n",
       "\t<tr><td> 9   </td><td>10.06</td><td>C    </td></tr>\n",
       "\t<tr><td> 9   </td><td> 9.93</td><td>C    </td></tr>\n",
       "\t<tr><td>11   </td><td>10.43</td><td>C    </td></tr>\n",
       "\t<tr><td> 6   </td><td>10.36</td><td>C    </td></tr>\n",
       "\t<tr><td>10   </td><td>10.15</td><td>C    </td></tr>\n",
       "\t<tr><td> 6   </td><td>10.92</td><td>C    </td></tr>\n",
       "\t<tr><td>10   </td><td> 8.85</td><td>C    </td></tr>\n",
       "\t<tr><td>11   </td><td> 9.42</td><td>C    </td></tr>\n",
       "\t<tr><td> 8   </td><td>11.11</td><td>C    </td></tr>\n",
       "\t<tr><td> 3   </td><td> 8.02</td><td>C    </td></tr>\n",
       "\t<tr><td> 8   </td><td>11.93</td><td>C    </td></tr>\n",
       "\t<tr><td> 5   </td><td> 8.55</td><td>C    </td></tr>\n",
       "\t<tr><td> 5   </td><td> 7.19</td><td>C    </td></tr>\n",
       "\t<tr><td> 4   </td><td> 9.83</td><td>C    </td></tr>\n",
       "\t<tr><td>11   </td><td>10.79</td><td>C    </td></tr>\n",
       "\t<tr><td> 5   </td><td> 8.89</td><td>C    </td></tr>\n",
       "\t<tr><td>10   </td><td>10.09</td><td>C    </td></tr>\n",
       "\t<tr><td> 6   </td><td>11.63</td><td>C    </td></tr>\n",
       "\t<tr><td> 6   </td><td>10.21</td><td>C    </td></tr>\n",
       "\t<tr><td> 7   </td><td> 9.45</td><td>C    </td></tr>\n",
       "\t<tr><td> 9   </td><td>10.44</td><td>C    </td></tr>\n",
       "\t<tr><td> 3   </td><td> 9.44</td><td>C    </td></tr>\n",
       "\t<tr><td>10   </td><td>10.48</td><td>C    </td></tr>\n",
       "\t<tr><td>⋮</td><td>⋮</td><td>⋮</td></tr>\n",
       "\t<tr><td>10   </td><td>10.54</td><td>T    </td></tr>\n",
       "\t<tr><td> 8   </td><td>11.30</td><td>T    </td></tr>\n",
       "\t<tr><td> 8   </td><td>12.40</td><td>T    </td></tr>\n",
       "\t<tr><td> 7   </td><td>10.18</td><td>T    </td></tr>\n",
       "\t<tr><td> 5   </td><td> 9.53</td><td>T    </td></tr>\n",
       "\t<tr><td> 6   </td><td>10.24</td><td>T    </td></tr>\n",
       "\t<tr><td> 8   </td><td>11.76</td><td>T    </td></tr>\n",
       "\t<tr><td> 9   </td><td> 9.52</td><td>T    </td></tr>\n",
       "\t<tr><td> 9   </td><td>10.40</td><td>T    </td></tr>\n",
       "\t<tr><td> 6   </td><td> 9.96</td><td>T    </td></tr>\n",
       "\t<tr><td> 7   </td><td>10.30</td><td>T    </td></tr>\n",
       "\t<tr><td>10   </td><td>11.54</td><td>T    </td></tr>\n",
       "\t<tr><td> 6   </td><td> 9.42</td><td>T    </td></tr>\n",
       "\t<tr><td>11   </td><td>11.28</td><td>T    </td></tr>\n",
       "\t<tr><td>11   </td><td> 9.73</td><td>T    </td></tr>\n",
       "\t<tr><td>11   </td><td>10.78</td><td>T    </td></tr>\n",
       "\t<tr><td> 5   </td><td>10.21</td><td>T    </td></tr>\n",
       "\t<tr><td> 6   </td><td>10.51</td><td>T    </td></tr>\n",
       "\t<tr><td> 4   </td><td>10.73</td><td>T    </td></tr>\n",
       "\t<tr><td> 5   </td><td> 8.85</td><td>T    </td></tr>\n",
       "\t<tr><td> 6   </td><td>11.20</td><td>T    </td></tr>\n",
       "\t<tr><td> 5   </td><td> 9.86</td><td>T    </td></tr>\n",
       "\t<tr><td> 8   </td><td>11.54</td><td>T    </td></tr>\n",
       "\t<tr><td> 5   </td><td>10.03</td><td>T    </td></tr>\n",
       "\t<tr><td> 9   </td><td>11.88</td><td>T    </td></tr>\n",
       "\t<tr><td> 8   </td><td> 9.15</td><td>T    </td></tr>\n",
       "\t<tr><td> 6   </td><td> 8.52</td><td>T    </td></tr>\n",
       "\t<tr><td> 8   </td><td>10.24</td><td>T    </td></tr>\n",
       "\t<tr><td> 7   </td><td>10.86</td><td>T    </td></tr>\n",
       "\t<tr><td> 9   </td><td> 9.97</td><td>T    </td></tr>\n",
       "</tbody>\n",
       "</table>\n"
      ],
      "text/latex": [
       "\\begin{tabular}{r|lll}\n",
       " y & x & f\\\\\n",
       "\\hline\n",
       "\t  6    &  8.31 & C    \\\\\n",
       "\t  6    &  9.44 & C    \\\\\n",
       "\t  6    &  9.50 & C    \\\\\n",
       "\t 12    &  9.07 & C    \\\\\n",
       "\t 10    & 10.16 & C    \\\\\n",
       "\t  4    &  8.32 & C    \\\\\n",
       "\t  9    & 10.61 & C    \\\\\n",
       "\t  9    & 10.06 & C    \\\\\n",
       "\t  9    &  9.93 & C    \\\\\n",
       "\t 11    & 10.43 & C    \\\\\n",
       "\t  6    & 10.36 & C    \\\\\n",
       "\t 10    & 10.15 & C    \\\\\n",
       "\t  6    & 10.92 & C    \\\\\n",
       "\t 10    &  8.85 & C    \\\\\n",
       "\t 11    &  9.42 & C    \\\\\n",
       "\t  8    & 11.11 & C    \\\\\n",
       "\t  3    &  8.02 & C    \\\\\n",
       "\t  8    & 11.93 & C    \\\\\n",
       "\t  5    &  8.55 & C    \\\\\n",
       "\t  5    &  7.19 & C    \\\\\n",
       "\t  4    &  9.83 & C    \\\\\n",
       "\t 11    & 10.79 & C    \\\\\n",
       "\t  5    &  8.89 & C    \\\\\n",
       "\t 10    & 10.09 & C    \\\\\n",
       "\t  6    & 11.63 & C    \\\\\n",
       "\t  6    & 10.21 & C    \\\\\n",
       "\t  7    &  9.45 & C    \\\\\n",
       "\t  9    & 10.44 & C    \\\\\n",
       "\t  3    &  9.44 & C    \\\\\n",
       "\t 10    & 10.48 & C    \\\\\n",
       "\t ⋮ & ⋮ & ⋮\\\\\n",
       "\t 10    & 10.54 & T    \\\\\n",
       "\t  8    & 11.30 & T    \\\\\n",
       "\t  8    & 12.40 & T    \\\\\n",
       "\t  7    & 10.18 & T    \\\\\n",
       "\t  5    &  9.53 & T    \\\\\n",
       "\t  6    & 10.24 & T    \\\\\n",
       "\t  8    & 11.76 & T    \\\\\n",
       "\t  9    &  9.52 & T    \\\\\n",
       "\t  9    & 10.40 & T    \\\\\n",
       "\t  6    &  9.96 & T    \\\\\n",
       "\t  7    & 10.30 & T    \\\\\n",
       "\t 10    & 11.54 & T    \\\\\n",
       "\t  6    &  9.42 & T    \\\\\n",
       "\t 11    & 11.28 & T    \\\\\n",
       "\t 11    &  9.73 & T    \\\\\n",
       "\t 11    & 10.78 & T    \\\\\n",
       "\t  5    & 10.21 & T    \\\\\n",
       "\t  6    & 10.51 & T    \\\\\n",
       "\t  4    & 10.73 & T    \\\\\n",
       "\t  5    &  8.85 & T    \\\\\n",
       "\t  6    & 11.20 & T    \\\\\n",
       "\t  5    &  9.86 & T    \\\\\n",
       "\t  8    & 11.54 & T    \\\\\n",
       "\t  5    & 10.03 & T    \\\\\n",
       "\t  9    & 11.88 & T    \\\\\n",
       "\t  8    &  9.15 & T    \\\\\n",
       "\t  6    &  8.52 & T    \\\\\n",
       "\t  8    & 10.24 & T    \\\\\n",
       "\t  7    & 10.86 & T    \\\\\n",
       "\t  9    &  9.97 & T    \\\\\n",
       "\\end{tabular}\n"
      ],
      "text/markdown": [
       "\n",
       "y | x | f | \n",
       "|---|---|---|---|---|---|---|---|---|---|---|---|---|---|---|---|---|---|---|---|---|---|---|---|---|---|---|---|---|---|---|---|---|---|---|---|---|---|---|---|---|---|---|---|---|---|---|---|---|---|---|---|---|---|---|---|---|---|---|---|---|\n",
       "|  6    |  8.31 | C     | \n",
       "|  6    |  9.44 | C     | \n",
       "|  6    |  9.50 | C     | \n",
       "| 12    |  9.07 | C     | \n",
       "| 10    | 10.16 | C     | \n",
       "|  4    |  8.32 | C     | \n",
       "|  9    | 10.61 | C     | \n",
       "|  9    | 10.06 | C     | \n",
       "|  9    |  9.93 | C     | \n",
       "| 11    | 10.43 | C     | \n",
       "|  6    | 10.36 | C     | \n",
       "| 10    | 10.15 | C     | \n",
       "|  6    | 10.92 | C     | \n",
       "| 10    |  8.85 | C     | \n",
       "| 11    |  9.42 | C     | \n",
       "|  8    | 11.11 | C     | \n",
       "|  3    |  8.02 | C     | \n",
       "|  8    | 11.93 | C     | \n",
       "|  5    |  8.55 | C     | \n",
       "|  5    |  7.19 | C     | \n",
       "|  4    |  9.83 | C     | \n",
       "| 11    | 10.79 | C     | \n",
       "|  5    |  8.89 | C     | \n",
       "| 10    | 10.09 | C     | \n",
       "|  6    | 11.63 | C     | \n",
       "|  6    | 10.21 | C     | \n",
       "|  7    |  9.45 | C     | \n",
       "|  9    | 10.44 | C     | \n",
       "|  3    |  9.44 | C     | \n",
       "| 10    | 10.48 | C     | \n",
       "| ⋮ | ⋮ | ⋮ | \n",
       "| 10    | 10.54 | T     | \n",
       "|  8    | 11.30 | T     | \n",
       "|  8    | 12.40 | T     | \n",
       "|  7    | 10.18 | T     | \n",
       "|  5    |  9.53 | T     | \n",
       "|  6    | 10.24 | T     | \n",
       "|  8    | 11.76 | T     | \n",
       "|  9    |  9.52 | T     | \n",
       "|  9    | 10.40 | T     | \n",
       "|  6    |  9.96 | T     | \n",
       "|  7    | 10.30 | T     | \n",
       "| 10    | 11.54 | T     | \n",
       "|  6    |  9.42 | T     | \n",
       "| 11    | 11.28 | T     | \n",
       "| 11    |  9.73 | T     | \n",
       "| 11    | 10.78 | T     | \n",
       "|  5    | 10.21 | T     | \n",
       "|  6    | 10.51 | T     | \n",
       "|  4    | 10.73 | T     | \n",
       "|  5    |  8.85 | T     | \n",
       "|  6    | 11.20 | T     | \n",
       "|  5    |  9.86 | T     | \n",
       "|  8    | 11.54 | T     | \n",
       "|  5    | 10.03 | T     | \n",
       "|  9    | 11.88 | T     | \n",
       "|  8    |  9.15 | T     | \n",
       "|  6    |  8.52 | T     | \n",
       "|  8    | 10.24 | T     | \n",
       "|  7    | 10.86 | T     | \n",
       "|  9    |  9.97 | T     | \n",
       "\n",
       "\n"
      ],
      "text/plain": [
       "    y  x     f\n",
       "1    6  8.31 C\n",
       "2    6  9.44 C\n",
       "3    6  9.50 C\n",
       "4   12  9.07 C\n",
       "5   10 10.16 C\n",
       "6    4  8.32 C\n",
       "7    9 10.61 C\n",
       "8    9 10.06 C\n",
       "9    9  9.93 C\n",
       "10  11 10.43 C\n",
       "11   6 10.36 C\n",
       "12  10 10.15 C\n",
       "13   6 10.92 C\n",
       "14  10  8.85 C\n",
       "15  11  9.42 C\n",
       "16   8 11.11 C\n",
       "17   3  8.02 C\n",
       "18   8 11.93 C\n",
       "19   5  8.55 C\n",
       "20   5  7.19 C\n",
       "21   4  9.83 C\n",
       "22  11 10.79 C\n",
       "23   5  8.89 C\n",
       "24  10 10.09 C\n",
       "25   6 11.63 C\n",
       "26   6 10.21 C\n",
       "27   7  9.45 C\n",
       "28   9 10.44 C\n",
       "29   3  9.44 C\n",
       "30  10 10.48 C\n",
       "⋮   ⋮  ⋮     ⋮\n",
       "71  10 10.54 T\n",
       "72   8 11.30 T\n",
       "73   8 12.40 T\n",
       "74   7 10.18 T\n",
       "75   5  9.53 T\n",
       "76   6 10.24 T\n",
       "77   8 11.76 T\n",
       "78   9  9.52 T\n",
       "79   9 10.40 T\n",
       "80   6  9.96 T\n",
       "81   7 10.30 T\n",
       "82  10 11.54 T\n",
       "83   6  9.42 T\n",
       "84  11 11.28 T\n",
       "85  11  9.73 T\n",
       "86  11 10.78 T\n",
       "87   5 10.21 T\n",
       "88   6 10.51 T\n",
       "89   4 10.73 T\n",
       "90   5  8.85 T\n",
       "91   6 11.20 T\n",
       "92   5  9.86 T\n",
       "93   8 11.54 T\n",
       "94   5 10.03 T\n",
       "95   9 11.88 T\n",
       "96   8  9.15 T\n",
       "97   6  8.52 T\n",
       "98   8 10.24 T\n",
       "99   7 10.86 T\n",
       "100  9  9.97 T"
      ]
     },
     "metadata": {},
     "output_type": "display_data"
    }
   ],
   "source": [
    "d"
   ]
  },
  {
   "cell_type": "code",
   "execution_count": 19,
   "metadata": {},
   "outputs": [
    {
     "data": {
      "text/html": [
       "<ol class=list-inline>\n",
       "\t<li>8.31</li>\n",
       "\t<li>9.44</li>\n",
       "\t<li>9.5</li>\n",
       "\t<li>9.07</li>\n",
       "\t<li>10.16</li>\n",
       "\t<li>8.32</li>\n",
       "\t<li>10.61</li>\n",
       "\t<li>10.06</li>\n",
       "\t<li>9.93</li>\n",
       "\t<li>10.43</li>\n",
       "\t<li>10.36</li>\n",
       "\t<li>10.15</li>\n",
       "\t<li>10.92</li>\n",
       "\t<li>8.85</li>\n",
       "\t<li>9.42</li>\n",
       "\t<li>11.11</li>\n",
       "\t<li>8.02</li>\n",
       "\t<li>11.93</li>\n",
       "\t<li>8.55</li>\n",
       "\t<li>7.19</li>\n",
       "\t<li>9.83</li>\n",
       "\t<li>10.79</li>\n",
       "\t<li>8.89</li>\n",
       "\t<li>10.09</li>\n",
       "\t<li>11.63</li>\n",
       "\t<li>10.21</li>\n",
       "\t<li>9.45</li>\n",
       "\t<li>10.44</li>\n",
       "\t<li>9.44</li>\n",
       "\t<li>10.48</li>\n",
       "\t<li>9.43</li>\n",
       "\t<li>10.32</li>\n",
       "\t<li>10.33</li>\n",
       "\t<li>8.5</li>\n",
       "\t<li>9.41</li>\n",
       "\t<li>8.96</li>\n",
       "\t<li>9.67</li>\n",
       "\t<li>10.26</li>\n",
       "\t<li>10.36</li>\n",
       "\t<li>11.8</li>\n",
       "\t<li>10.94</li>\n",
       "\t<li>10.25</li>\n",
       "\t<li>8.74</li>\n",
       "\t<li>10.46</li>\n",
       "\t<li>9.37</li>\n",
       "\t<li>9.74</li>\n",
       "\t<li>8.95</li>\n",
       "\t<li>8.74</li>\n",
       "\t<li>11.32</li>\n",
       "\t<li>9.25</li>\n",
       "\t<li>10.14</li>\n",
       "\t<li>9.05</li>\n",
       "\t<li>9.89</li>\n",
       "\t<li>8.76</li>\n",
       "\t<li>12.04</li>\n",
       "\t<li>9.91</li>\n",
       "\t<li>9.84</li>\n",
       "\t<li>11.87</li>\n",
       "\t<li>10.16</li>\n",
       "\t<li>9.34</li>\n",
       "\t<li>10.17</li>\n",
       "\t<li>10.99</li>\n",
       "\t<li>9.19</li>\n",
       "\t<li>10.67</li>\n",
       "\t<li>10.96</li>\n",
       "\t<li>10.55</li>\n",
       "\t<li>9.69</li>\n",
       "\t<li>10.91</li>\n",
       "\t<li>9.6</li>\n",
       "\t<li>12.37</li>\n",
       "\t<li>10.54</li>\n",
       "\t<li>11.3</li>\n",
       "\t<li>12.4</li>\n",
       "\t<li>10.18</li>\n",
       "\t<li>9.53</li>\n",
       "\t<li>10.24</li>\n",
       "\t<li>11.76</li>\n",
       "\t<li>9.52</li>\n",
       "\t<li>10.4</li>\n",
       "\t<li>9.96</li>\n",
       "\t<li>10.3</li>\n",
       "\t<li>11.54</li>\n",
       "\t<li>9.42</li>\n",
       "\t<li>11.28</li>\n",
       "\t<li>9.73</li>\n",
       "\t<li>10.78</li>\n",
       "\t<li>10.21</li>\n",
       "\t<li>10.51</li>\n",
       "\t<li>10.73</li>\n",
       "\t<li>8.85</li>\n",
       "\t<li>11.2</li>\n",
       "\t<li>9.86</li>\n",
       "\t<li>11.54</li>\n",
       "\t<li>10.03</li>\n",
       "\t<li>11.88</li>\n",
       "\t<li>9.15</li>\n",
       "\t<li>8.52</li>\n",
       "\t<li>10.24</li>\n",
       "\t<li>10.86</li>\n",
       "\t<li>9.97</li>\n",
       "</ol>\n"
      ],
      "text/latex": [
       "\\begin{enumerate*}\n",
       "\\item 8.31\n",
       "\\item 9.44\n",
       "\\item 9.5\n",
       "\\item 9.07\n",
       "\\item 10.16\n",
       "\\item 8.32\n",
       "\\item 10.61\n",
       "\\item 10.06\n",
       "\\item 9.93\n",
       "\\item 10.43\n",
       "\\item 10.36\n",
       "\\item 10.15\n",
       "\\item 10.92\n",
       "\\item 8.85\n",
       "\\item 9.42\n",
       "\\item 11.11\n",
       "\\item 8.02\n",
       "\\item 11.93\n",
       "\\item 8.55\n",
       "\\item 7.19\n",
       "\\item 9.83\n",
       "\\item 10.79\n",
       "\\item 8.89\n",
       "\\item 10.09\n",
       "\\item 11.63\n",
       "\\item 10.21\n",
       "\\item 9.45\n",
       "\\item 10.44\n",
       "\\item 9.44\n",
       "\\item 10.48\n",
       "\\item 9.43\n",
       "\\item 10.32\n",
       "\\item 10.33\n",
       "\\item 8.5\n",
       "\\item 9.41\n",
       "\\item 8.96\n",
       "\\item 9.67\n",
       "\\item 10.26\n",
       "\\item 10.36\n",
       "\\item 11.8\n",
       "\\item 10.94\n",
       "\\item 10.25\n",
       "\\item 8.74\n",
       "\\item 10.46\n",
       "\\item 9.37\n",
       "\\item 9.74\n",
       "\\item 8.95\n",
       "\\item 8.74\n",
       "\\item 11.32\n",
       "\\item 9.25\n",
       "\\item 10.14\n",
       "\\item 9.05\n",
       "\\item 9.89\n",
       "\\item 8.76\n",
       "\\item 12.04\n",
       "\\item 9.91\n",
       "\\item 9.84\n",
       "\\item 11.87\n",
       "\\item 10.16\n",
       "\\item 9.34\n",
       "\\item 10.17\n",
       "\\item 10.99\n",
       "\\item 9.19\n",
       "\\item 10.67\n",
       "\\item 10.96\n",
       "\\item 10.55\n",
       "\\item 9.69\n",
       "\\item 10.91\n",
       "\\item 9.6\n",
       "\\item 12.37\n",
       "\\item 10.54\n",
       "\\item 11.3\n",
       "\\item 12.4\n",
       "\\item 10.18\n",
       "\\item 9.53\n",
       "\\item 10.24\n",
       "\\item 11.76\n",
       "\\item 9.52\n",
       "\\item 10.4\n",
       "\\item 9.96\n",
       "\\item 10.3\n",
       "\\item 11.54\n",
       "\\item 9.42\n",
       "\\item 11.28\n",
       "\\item 9.73\n",
       "\\item 10.78\n",
       "\\item 10.21\n",
       "\\item 10.51\n",
       "\\item 10.73\n",
       "\\item 8.85\n",
       "\\item 11.2\n",
       "\\item 9.86\n",
       "\\item 11.54\n",
       "\\item 10.03\n",
       "\\item 11.88\n",
       "\\item 9.15\n",
       "\\item 8.52\n",
       "\\item 10.24\n",
       "\\item 10.86\n",
       "\\item 9.97\n",
       "\\end{enumerate*}\n"
      ],
      "text/markdown": [
       "1. 8.31\n",
       "2. 9.44\n",
       "3. 9.5\n",
       "4. 9.07\n",
       "5. 10.16\n",
       "6. 8.32\n",
       "7. 10.61\n",
       "8. 10.06\n",
       "9. 9.93\n",
       "10. 10.43\n",
       "11. 10.36\n",
       "12. 10.15\n",
       "13. 10.92\n",
       "14. 8.85\n",
       "15. 9.42\n",
       "16. 11.11\n",
       "17. 8.02\n",
       "18. 11.93\n",
       "19. 8.55\n",
       "20. 7.19\n",
       "21. 9.83\n",
       "22. 10.79\n",
       "23. 8.89\n",
       "24. 10.09\n",
       "25. 11.63\n",
       "26. 10.21\n",
       "27. 9.45\n",
       "28. 10.44\n",
       "29. 9.44\n",
       "30. 10.48\n",
       "31. 9.43\n",
       "32. 10.32\n",
       "33. 10.33\n",
       "34. 8.5\n",
       "35. 9.41\n",
       "36. 8.96\n",
       "37. 9.67\n",
       "38. 10.26\n",
       "39. 10.36\n",
       "40. 11.8\n",
       "41. 10.94\n",
       "42. 10.25\n",
       "43. 8.74\n",
       "44. 10.46\n",
       "45. 9.37\n",
       "46. 9.74\n",
       "47. 8.95\n",
       "48. 8.74\n",
       "49. 11.32\n",
       "50. 9.25\n",
       "51. 10.14\n",
       "52. 9.05\n",
       "53. 9.89\n",
       "54. 8.76\n",
       "55. 12.04\n",
       "56. 9.91\n",
       "57. 9.84\n",
       "58. 11.87\n",
       "59. 10.16\n",
       "60. 9.34\n",
       "61. 10.17\n",
       "62. 10.99\n",
       "63. 9.19\n",
       "64. 10.67\n",
       "65. 10.96\n",
       "66. 10.55\n",
       "67. 9.69\n",
       "68. 10.91\n",
       "69. 9.6\n",
       "70. 12.37\n",
       "71. 10.54\n",
       "72. 11.3\n",
       "73. 12.4\n",
       "74. 10.18\n",
       "75. 9.53\n",
       "76. 10.24\n",
       "77. 11.76\n",
       "78. 9.52\n",
       "79. 10.4\n",
       "80. 9.96\n",
       "81. 10.3\n",
       "82. 11.54\n",
       "83. 9.42\n",
       "84. 11.28\n",
       "85. 9.73\n",
       "86. 10.78\n",
       "87. 10.21\n",
       "88. 10.51\n",
       "89. 10.73\n",
       "90. 8.85\n",
       "91. 11.2\n",
       "92. 9.86\n",
       "93. 11.54\n",
       "94. 10.03\n",
       "95. 11.88\n",
       "96. 9.15\n",
       "97. 8.52\n",
       "98. 10.24\n",
       "99. 10.86\n",
       "100. 9.97\n",
       "\n",
       "\n"
      ],
      "text/plain": [
       "  [1]  8.31  9.44  9.50  9.07 10.16  8.32 10.61 10.06  9.93 10.43 10.36 10.15\n",
       " [13] 10.92  8.85  9.42 11.11  8.02 11.93  8.55  7.19  9.83 10.79  8.89 10.09\n",
       " [25] 11.63 10.21  9.45 10.44  9.44 10.48  9.43 10.32 10.33  8.50  9.41  8.96\n",
       " [37]  9.67 10.26 10.36 11.80 10.94 10.25  8.74 10.46  9.37  9.74  8.95  8.74\n",
       " [49] 11.32  9.25 10.14  9.05  9.89  8.76 12.04  9.91  9.84 11.87 10.16  9.34\n",
       " [61] 10.17 10.99  9.19 10.67 10.96 10.55  9.69 10.91  9.60 12.37 10.54 11.30\n",
       " [73] 12.40 10.18  9.53 10.24 11.76  9.52 10.40  9.96 10.30 11.54  9.42 11.28\n",
       " [85]  9.73 10.78 10.21 10.51 10.73  8.85 11.20  9.86 11.54 10.03 11.88  9.15\n",
       " [97]  8.52 10.24 10.86  9.97"
      ]
     },
     "metadata": {},
     "output_type": "display_data"
    }
   ],
   "source": [
    "d$x"
   ]
  },
  {
   "cell_type": "code",
   "execution_count": 20,
   "metadata": {},
   "outputs": [
    {
     "data": {
      "text/html": [
       "<ol class=list-inline>\n",
       "\t<li>6</li>\n",
       "\t<li>6</li>\n",
       "\t<li>6</li>\n",
       "\t<li>12</li>\n",
       "\t<li>10</li>\n",
       "\t<li>4</li>\n",
       "\t<li>9</li>\n",
       "\t<li>9</li>\n",
       "\t<li>9</li>\n",
       "\t<li>11</li>\n",
       "\t<li>6</li>\n",
       "\t<li>10</li>\n",
       "\t<li>6</li>\n",
       "\t<li>10</li>\n",
       "\t<li>11</li>\n",
       "\t<li>8</li>\n",
       "\t<li>3</li>\n",
       "\t<li>8</li>\n",
       "\t<li>5</li>\n",
       "\t<li>5</li>\n",
       "\t<li>4</li>\n",
       "\t<li>11</li>\n",
       "\t<li>5</li>\n",
       "\t<li>10</li>\n",
       "\t<li>6</li>\n",
       "\t<li>6</li>\n",
       "\t<li>7</li>\n",
       "\t<li>9</li>\n",
       "\t<li>3</li>\n",
       "\t<li>10</li>\n",
       "\t<li>2</li>\n",
       "\t<li>9</li>\n",
       "\t<li>10</li>\n",
       "\t<li>5</li>\n",
       "\t<li>11</li>\n",
       "\t<li>10</li>\n",
       "\t<li>4</li>\n",
       "\t<li>8</li>\n",
       "\t<li>9</li>\n",
       "\t<li>12</li>\n",
       "\t<li>8</li>\n",
       "\t<li>9</li>\n",
       "\t<li>8</li>\n",
       "\t<li>6</li>\n",
       "\t<li>6</li>\n",
       "\t<li>10</li>\n",
       "\t<li>10</li>\n",
       "\t<li>9</li>\n",
       "\t<li>12</li>\n",
       "\t<li>6</li>\n",
       "\t<li>14</li>\n",
       "\t<li>6</li>\n",
       "\t<li>7</li>\n",
       "\t<li>9</li>\n",
       "\t<li>6</li>\n",
       "\t<li>7</li>\n",
       "\t<li>9</li>\n",
       "\t<li>13</li>\n",
       "\t<li>9</li>\n",
       "\t<li>13</li>\n",
       "\t<li>7</li>\n",
       "\t<li>8</li>\n",
       "\t<li>10</li>\n",
       "\t<li>7</li>\n",
       "\t<li>12</li>\n",
       "\t<li>6</li>\n",
       "\t<li>15</li>\n",
       "\t<li>3</li>\n",
       "\t<li>4</li>\n",
       "\t<li>6</li>\n",
       "\t<li>10</li>\n",
       "\t<li>8</li>\n",
       "\t<li>8</li>\n",
       "\t<li>7</li>\n",
       "\t<li>5</li>\n",
       "\t<li>6</li>\n",
       "\t<li>8</li>\n",
       "\t<li>9</li>\n",
       "\t<li>9</li>\n",
       "\t<li>6</li>\n",
       "\t<li>7</li>\n",
       "\t<li>10</li>\n",
       "\t<li>6</li>\n",
       "\t<li>11</li>\n",
       "\t<li>11</li>\n",
       "\t<li>11</li>\n",
       "\t<li>5</li>\n",
       "\t<li>6</li>\n",
       "\t<li>4</li>\n",
       "\t<li>5</li>\n",
       "\t<li>6</li>\n",
       "\t<li>5</li>\n",
       "\t<li>8</li>\n",
       "\t<li>5</li>\n",
       "\t<li>9</li>\n",
       "\t<li>8</li>\n",
       "\t<li>6</li>\n",
       "\t<li>8</li>\n",
       "\t<li>7</li>\n",
       "\t<li>9</li>\n",
       "</ol>\n"
      ],
      "text/latex": [
       "\\begin{enumerate*}\n",
       "\\item 6\n",
       "\\item 6\n",
       "\\item 6\n",
       "\\item 12\n",
       "\\item 10\n",
       "\\item 4\n",
       "\\item 9\n",
       "\\item 9\n",
       "\\item 9\n",
       "\\item 11\n",
       "\\item 6\n",
       "\\item 10\n",
       "\\item 6\n",
       "\\item 10\n",
       "\\item 11\n",
       "\\item 8\n",
       "\\item 3\n",
       "\\item 8\n",
       "\\item 5\n",
       "\\item 5\n",
       "\\item 4\n",
       "\\item 11\n",
       "\\item 5\n",
       "\\item 10\n",
       "\\item 6\n",
       "\\item 6\n",
       "\\item 7\n",
       "\\item 9\n",
       "\\item 3\n",
       "\\item 10\n",
       "\\item 2\n",
       "\\item 9\n",
       "\\item 10\n",
       "\\item 5\n",
       "\\item 11\n",
       "\\item 10\n",
       "\\item 4\n",
       "\\item 8\n",
       "\\item 9\n",
       "\\item 12\n",
       "\\item 8\n",
       "\\item 9\n",
       "\\item 8\n",
       "\\item 6\n",
       "\\item 6\n",
       "\\item 10\n",
       "\\item 10\n",
       "\\item 9\n",
       "\\item 12\n",
       "\\item 6\n",
       "\\item 14\n",
       "\\item 6\n",
       "\\item 7\n",
       "\\item 9\n",
       "\\item 6\n",
       "\\item 7\n",
       "\\item 9\n",
       "\\item 13\n",
       "\\item 9\n",
       "\\item 13\n",
       "\\item 7\n",
       "\\item 8\n",
       "\\item 10\n",
       "\\item 7\n",
       "\\item 12\n",
       "\\item 6\n",
       "\\item 15\n",
       "\\item 3\n",
       "\\item 4\n",
       "\\item 6\n",
       "\\item 10\n",
       "\\item 8\n",
       "\\item 8\n",
       "\\item 7\n",
       "\\item 5\n",
       "\\item 6\n",
       "\\item 8\n",
       "\\item 9\n",
       "\\item 9\n",
       "\\item 6\n",
       "\\item 7\n",
       "\\item 10\n",
       "\\item 6\n",
       "\\item 11\n",
       "\\item 11\n",
       "\\item 11\n",
       "\\item 5\n",
       "\\item 6\n",
       "\\item 4\n",
       "\\item 5\n",
       "\\item 6\n",
       "\\item 5\n",
       "\\item 8\n",
       "\\item 5\n",
       "\\item 9\n",
       "\\item 8\n",
       "\\item 6\n",
       "\\item 8\n",
       "\\item 7\n",
       "\\item 9\n",
       "\\end{enumerate*}\n"
      ],
      "text/markdown": [
       "1. 6\n",
       "2. 6\n",
       "3. 6\n",
       "4. 12\n",
       "5. 10\n",
       "6. 4\n",
       "7. 9\n",
       "8. 9\n",
       "9. 9\n",
       "10. 11\n",
       "11. 6\n",
       "12. 10\n",
       "13. 6\n",
       "14. 10\n",
       "15. 11\n",
       "16. 8\n",
       "17. 3\n",
       "18. 8\n",
       "19. 5\n",
       "20. 5\n",
       "21. 4\n",
       "22. 11\n",
       "23. 5\n",
       "24. 10\n",
       "25. 6\n",
       "26. 6\n",
       "27. 7\n",
       "28. 9\n",
       "29. 3\n",
       "30. 10\n",
       "31. 2\n",
       "32. 9\n",
       "33. 10\n",
       "34. 5\n",
       "35. 11\n",
       "36. 10\n",
       "37. 4\n",
       "38. 8\n",
       "39. 9\n",
       "40. 12\n",
       "41. 8\n",
       "42. 9\n",
       "43. 8\n",
       "44. 6\n",
       "45. 6\n",
       "46. 10\n",
       "47. 10\n",
       "48. 9\n",
       "49. 12\n",
       "50. 6\n",
       "51. 14\n",
       "52. 6\n",
       "53. 7\n",
       "54. 9\n",
       "55. 6\n",
       "56. 7\n",
       "57. 9\n",
       "58. 13\n",
       "59. 9\n",
       "60. 13\n",
       "61. 7\n",
       "62. 8\n",
       "63. 10\n",
       "64. 7\n",
       "65. 12\n",
       "66. 6\n",
       "67. 15\n",
       "68. 3\n",
       "69. 4\n",
       "70. 6\n",
       "71. 10\n",
       "72. 8\n",
       "73. 8\n",
       "74. 7\n",
       "75. 5\n",
       "76. 6\n",
       "77. 8\n",
       "78. 9\n",
       "79. 9\n",
       "80. 6\n",
       "81. 7\n",
       "82. 10\n",
       "83. 6\n",
       "84. 11\n",
       "85. 11\n",
       "86. 11\n",
       "87. 5\n",
       "88. 6\n",
       "89. 4\n",
       "90. 5\n",
       "91. 6\n",
       "92. 5\n",
       "93. 8\n",
       "94. 5\n",
       "95. 9\n",
       "96. 8\n",
       "97. 6\n",
       "98. 8\n",
       "99. 7\n",
       "100. 9\n",
       "\n",
       "\n"
      ],
      "text/plain": [
       "  [1]  6  6  6 12 10  4  9  9  9 11  6 10  6 10 11  8  3  8  5  5  4 11  5 10  6\n",
       " [26]  6  7  9  3 10  2  9 10  5 11 10  4  8  9 12  8  9  8  6  6 10 10  9 12  6\n",
       " [51] 14  6  7  9  6  7  9 13  9 13  7  8 10  7 12  6 15  3  4  6 10  8  8  7  5\n",
       " [76]  6  8  9  9  6  7 10  6 11 11 11  5  6  4  5  6  5  8  5  9  8  6  8  7  9"
      ]
     },
     "metadata": {},
     "output_type": "display_data"
    }
   ],
   "source": [
    "d$y"
   ]
  },
  {
   "cell_type": "code",
   "execution_count": 21,
   "metadata": {},
   "outputs": [
    {
     "data": {
      "text/html": [
       "<ol class=list-inline>\n",
       "\t<li>C</li>\n",
       "\t<li>C</li>\n",
       "\t<li>C</li>\n",
       "\t<li>C</li>\n",
       "\t<li>C</li>\n",
       "\t<li>C</li>\n",
       "\t<li>C</li>\n",
       "\t<li>C</li>\n",
       "\t<li>C</li>\n",
       "\t<li>C</li>\n",
       "\t<li>C</li>\n",
       "\t<li>C</li>\n",
       "\t<li>C</li>\n",
       "\t<li>C</li>\n",
       "\t<li>C</li>\n",
       "\t<li>C</li>\n",
       "\t<li>C</li>\n",
       "\t<li>C</li>\n",
       "\t<li>C</li>\n",
       "\t<li>C</li>\n",
       "\t<li>C</li>\n",
       "\t<li>C</li>\n",
       "\t<li>C</li>\n",
       "\t<li>C</li>\n",
       "\t<li>C</li>\n",
       "\t<li>C</li>\n",
       "\t<li>C</li>\n",
       "\t<li>C</li>\n",
       "\t<li>C</li>\n",
       "\t<li>C</li>\n",
       "\t<li>C</li>\n",
       "\t<li>C</li>\n",
       "\t<li>C</li>\n",
       "\t<li>C</li>\n",
       "\t<li>C</li>\n",
       "\t<li>C</li>\n",
       "\t<li>C</li>\n",
       "\t<li>C</li>\n",
       "\t<li>C</li>\n",
       "\t<li>C</li>\n",
       "\t<li>C</li>\n",
       "\t<li>C</li>\n",
       "\t<li>C</li>\n",
       "\t<li>C</li>\n",
       "\t<li>C</li>\n",
       "\t<li>C</li>\n",
       "\t<li>C</li>\n",
       "\t<li>C</li>\n",
       "\t<li>C</li>\n",
       "\t<li>C</li>\n",
       "\t<li>T</li>\n",
       "\t<li>T</li>\n",
       "\t<li>T</li>\n",
       "\t<li>T</li>\n",
       "\t<li>T</li>\n",
       "\t<li>T</li>\n",
       "\t<li>T</li>\n",
       "\t<li>T</li>\n",
       "\t<li>T</li>\n",
       "\t<li>T</li>\n",
       "\t<li>T</li>\n",
       "\t<li>T</li>\n",
       "\t<li>T</li>\n",
       "\t<li>T</li>\n",
       "\t<li>T</li>\n",
       "\t<li>T</li>\n",
       "\t<li>T</li>\n",
       "\t<li>T</li>\n",
       "\t<li>T</li>\n",
       "\t<li>T</li>\n",
       "\t<li>T</li>\n",
       "\t<li>T</li>\n",
       "\t<li>T</li>\n",
       "\t<li>T</li>\n",
       "\t<li>T</li>\n",
       "\t<li>T</li>\n",
       "\t<li>T</li>\n",
       "\t<li>T</li>\n",
       "\t<li>T</li>\n",
       "\t<li>T</li>\n",
       "\t<li>T</li>\n",
       "\t<li>T</li>\n",
       "\t<li>T</li>\n",
       "\t<li>T</li>\n",
       "\t<li>T</li>\n",
       "\t<li>T</li>\n",
       "\t<li>T</li>\n",
       "\t<li>T</li>\n",
       "\t<li>T</li>\n",
       "\t<li>T</li>\n",
       "\t<li>T</li>\n",
       "\t<li>T</li>\n",
       "\t<li>T</li>\n",
       "\t<li>T</li>\n",
       "\t<li>T</li>\n",
       "\t<li>T</li>\n",
       "\t<li>T</li>\n",
       "\t<li>T</li>\n",
       "\t<li>T</li>\n",
       "\t<li>T</li>\n",
       "</ol>\n"
      ],
      "text/latex": [
       "\\begin{enumerate*}\n",
       "\\item C\n",
       "\\item C\n",
       "\\item C\n",
       "\\item C\n",
       "\\item C\n",
       "\\item C\n",
       "\\item C\n",
       "\\item C\n",
       "\\item C\n",
       "\\item C\n",
       "\\item C\n",
       "\\item C\n",
       "\\item C\n",
       "\\item C\n",
       "\\item C\n",
       "\\item C\n",
       "\\item C\n",
       "\\item C\n",
       "\\item C\n",
       "\\item C\n",
       "\\item C\n",
       "\\item C\n",
       "\\item C\n",
       "\\item C\n",
       "\\item C\n",
       "\\item C\n",
       "\\item C\n",
       "\\item C\n",
       "\\item C\n",
       "\\item C\n",
       "\\item C\n",
       "\\item C\n",
       "\\item C\n",
       "\\item C\n",
       "\\item C\n",
       "\\item C\n",
       "\\item C\n",
       "\\item C\n",
       "\\item C\n",
       "\\item C\n",
       "\\item C\n",
       "\\item C\n",
       "\\item C\n",
       "\\item C\n",
       "\\item C\n",
       "\\item C\n",
       "\\item C\n",
       "\\item C\n",
       "\\item C\n",
       "\\item C\n",
       "\\item T\n",
       "\\item T\n",
       "\\item T\n",
       "\\item T\n",
       "\\item T\n",
       "\\item T\n",
       "\\item T\n",
       "\\item T\n",
       "\\item T\n",
       "\\item T\n",
       "\\item T\n",
       "\\item T\n",
       "\\item T\n",
       "\\item T\n",
       "\\item T\n",
       "\\item T\n",
       "\\item T\n",
       "\\item T\n",
       "\\item T\n",
       "\\item T\n",
       "\\item T\n",
       "\\item T\n",
       "\\item T\n",
       "\\item T\n",
       "\\item T\n",
       "\\item T\n",
       "\\item T\n",
       "\\item T\n",
       "\\item T\n",
       "\\item T\n",
       "\\item T\n",
       "\\item T\n",
       "\\item T\n",
       "\\item T\n",
       "\\item T\n",
       "\\item T\n",
       "\\item T\n",
       "\\item T\n",
       "\\item T\n",
       "\\item T\n",
       "\\item T\n",
       "\\item T\n",
       "\\item T\n",
       "\\item T\n",
       "\\item T\n",
       "\\item T\n",
       "\\item T\n",
       "\\item T\n",
       "\\item T\n",
       "\\item T\n",
       "\\end{enumerate*}\n"
      ],
      "text/markdown": [
       "1. C\n",
       "2. C\n",
       "3. C\n",
       "4. C\n",
       "5. C\n",
       "6. C\n",
       "7. C\n",
       "8. C\n",
       "9. C\n",
       "10. C\n",
       "11. C\n",
       "12. C\n",
       "13. C\n",
       "14. C\n",
       "15. C\n",
       "16. C\n",
       "17. C\n",
       "18. C\n",
       "19. C\n",
       "20. C\n",
       "21. C\n",
       "22. C\n",
       "23. C\n",
       "24. C\n",
       "25. C\n",
       "26. C\n",
       "27. C\n",
       "28. C\n",
       "29. C\n",
       "30. C\n",
       "31. C\n",
       "32. C\n",
       "33. C\n",
       "34. C\n",
       "35. C\n",
       "36. C\n",
       "37. C\n",
       "38. C\n",
       "39. C\n",
       "40. C\n",
       "41. C\n",
       "42. C\n",
       "43. C\n",
       "44. C\n",
       "45. C\n",
       "46. C\n",
       "47. C\n",
       "48. C\n",
       "49. C\n",
       "50. C\n",
       "51. T\n",
       "52. T\n",
       "53. T\n",
       "54. T\n",
       "55. T\n",
       "56. T\n",
       "57. T\n",
       "58. T\n",
       "59. T\n",
       "60. T\n",
       "61. T\n",
       "62. T\n",
       "63. T\n",
       "64. T\n",
       "65. T\n",
       "66. T\n",
       "67. T\n",
       "68. T\n",
       "69. T\n",
       "70. T\n",
       "71. T\n",
       "72. T\n",
       "73. T\n",
       "74. T\n",
       "75. T\n",
       "76. T\n",
       "77. T\n",
       "78. T\n",
       "79. T\n",
       "80. T\n",
       "81. T\n",
       "82. T\n",
       "83. T\n",
       "84. T\n",
       "85. T\n",
       "86. T\n",
       "87. T\n",
       "88. T\n",
       "89. T\n",
       "90. T\n",
       "91. T\n",
       "92. T\n",
       "93. T\n",
       "94. T\n",
       "95. T\n",
       "96. T\n",
       "97. T\n",
       "98. T\n",
       "99. T\n",
       "100. T\n",
       "\n",
       "\n"
      ],
      "text/plain": [
       "  [1] C C C C C C C C C C C C C C C C C C C C C C C C C C C C C C C C C C C C C\n",
       " [38] C C C C C C C C C C C C C T T T T T T T T T T T T T T T T T T T T T T T T\n",
       " [75] T T T T T T T T T T T T T T T T T T T T T T T T T T\n",
       "Levels: C T"
      ]
     },
     "metadata": {},
     "output_type": "display_data"
    }
   ],
   "source": [
    "d$f"
   ]
  },
  {
   "cell_type": "code",
   "execution_count": 22,
   "metadata": {},
   "outputs": [
    {
     "data": {
      "text/html": [
       "'data.frame'"
      ],
      "text/latex": [
       "'data.frame'"
      ],
      "text/markdown": [
       "'data.frame'"
      ],
      "text/plain": [
       "[1] \"data.frame\""
      ]
     },
     "metadata": {},
     "output_type": "display_data"
    }
   ],
   "source": [
    "class(d)"
   ]
  },
  {
   "cell_type": "code",
   "execution_count": 23,
   "metadata": {},
   "outputs": [
    {
     "data": {
      "text/html": [
       "'integer'"
      ],
      "text/latex": [
       "'integer'"
      ],
      "text/markdown": [
       "'integer'"
      ],
      "text/plain": [
       "[1] \"integer\""
      ]
     },
     "metadata": {},
     "output_type": "display_data"
    }
   ],
   "source": [
    "class(d$y)"
   ]
  },
  {
   "cell_type": "code",
   "execution_count": 24,
   "metadata": {},
   "outputs": [
    {
     "data": {
      "text/html": [
       "'numeric'"
      ],
      "text/latex": [
       "'numeric'"
      ],
      "text/markdown": [
       "'numeric'"
      ],
      "text/plain": [
       "[1] \"numeric\""
      ]
     },
     "metadata": {},
     "output_type": "display_data"
    }
   ],
   "source": [
    "class(d$x)"
   ]
  },
  {
   "cell_type": "code",
   "execution_count": 25,
   "metadata": {},
   "outputs": [
    {
     "data": {
      "text/html": [
       "'factor'"
      ],
      "text/latex": [
       "'factor'"
      ],
      "text/markdown": [
       "'factor'"
      ],
      "text/plain": [
       "[1] \"factor\""
      ]
     },
     "metadata": {},
     "output_type": "display_data"
    }
   ],
   "source": [
    "class(d$f)"
   ]
  },
  {
   "cell_type": "code",
   "execution_count": 26,
   "metadata": {},
   "outputs": [
    {
     "data": {
      "text/plain": [
       "       y               x          f     \n",
       " Min.   : 2.00   Min.   : 7.190   C:50  \n",
       " 1st Qu.: 6.00   1st Qu.: 9.428   T:50  \n",
       " Median : 8.00   Median :10.155         \n",
       " Mean   : 7.83   Mean   :10.089         \n",
       " 3rd Qu.:10.00   3rd Qu.:10.685         \n",
       " Max.   :15.00   Max.   :12.400         "
      ]
     },
     "metadata": {},
     "output_type": "display_data"
    }
   ],
   "source": [
    "summary(d)"
   ]
  },
  {
   "cell_type": "code",
   "execution_count": 27,
   "metadata": {},
   "outputs": [
    {
     "data": {
      "image/png": "[encoded data removed]",
      "text/plain": [
       "plot without title"
      ]
     },
     "metadata": {},
     "output_type": "display_data"
    }
   ],
   "source": [
    "plot(d$x, d$y, pch=c(21,19)[d$f])\n",
    "legend(\"topleft\", legend=c(\"C\", \"T\"), pch=c(21,19))"
   ]
  },
  {
   "cell_type": "code",
   "execution_count": 28,
   "metadata": {},
   "outputs": [
    {
     "data": {
      "image/png": "[encoded data removed]",
      "text/plain": [
       "plot without title"
      ]
     },
     "metadata": {},
     "output_type": "display_data"
    }
   ],
   "source": [
    "plot(d$f, d$y, pch=c(21,19)[d$f])"
   ]
  },
  {
   "cell_type": "markdown",
   "metadata": {},
   "source": [
    "対数リンク関数を使って当てはめを行う。"
   ]
  },
  {
   "cell_type": "code",
   "execution_count": 29,
   "metadata": {},
   "outputs": [
    {
     "data": {
      "text/plain": [
       "\n",
       "Call:  glm(formula = y ~ x, family = poisson(link = \"log\"), data = d)\n",
       "\n",
       "Coefficients:\n",
       "(Intercept)            x  \n",
       "    1.29172      0.07566  \n",
       "\n",
       "Degrees of Freedom: 99 Total (i.e. Null);  98 Residual\n",
       "Null Deviance:\t    89.51 \n",
       "Residual Deviance: 84.99 \tAIC: 474.8"
      ]
     },
     "metadata": {},
     "output_type": "display_data"
    },
    {
     "data": {
      "text/plain": [
       "\n",
       "Call:\n",
       "glm(formula = y ~ x, family = poisson(link = \"log\"), data = d)\n",
       "\n",
       "Deviance Residuals: \n",
       "    Min       1Q   Median       3Q      Max  \n",
       "-2.3679  -0.7348  -0.1775   0.6987   2.3760  \n",
       "\n",
       "Coefficients:\n",
       "            Estimate Std. Error z value Pr(>|z|)    \n",
       "(Intercept)  1.29172    0.36369   3.552 0.000383 ***\n",
       "x            0.07566    0.03560   2.125 0.033580 *  \n",
       "---\n",
       "Signif. codes:  0 ‘***’ 0.001 ‘**’ 0.01 ‘*’ 0.05 ‘.’ 0.1 ‘ ’ 1\n",
       "\n",
       "(Dispersion parameter for poisson family taken to be 1)\n",
       "\n",
       "    Null deviance: 89.507  on 99  degrees of freedom\n",
       "Residual deviance: 84.993  on 98  degrees of freedom\n",
       "AIC: 474.77\n",
       "\n",
       "Number of Fisher Scoring iterations: 4\n"
      ]
     },
     "metadata": {},
     "output_type": "display_data"
    }
   ],
   "source": [
    "fit <- glm(y ~ x, data = d, family = poisson(link = 'log'))\n",
    "fit\n",
    "summary(fit)"
   ]
  },
  {
   "cell_type": "markdown",
   "metadata": {},
   "source": [
    "Estimate によると、切片$\\beta_1$は1.29, 傾き$\\beta_2$は0.076。 Std. Error (SE) はこの推定値がどのくらいばらつくかを表している。 対数尤度は最大尤度で最大値を取る凸関数。推定のばらつきが正規分布であると仮定し、さらに対数尤度関数は最大値付近での形が正規分布に近いと仮定すると（Wald統計量）、このように SE を求めることができる。 z value: Wald 統計量。最尤推定値を SE で除した値。推定値が 0 から離れているかの目安になる値。"
   ]
  },
  {
   "cell_type": "markdown",
   "metadata": {},
   "source": [
    "logLik() で、最大尤度（＝あてはまりの良さ）を算出することができる。df は自由度 (degrees of freedom)。"
   ]
  },
  {
   "cell_type": "code",
   "execution_count": 30,
   "metadata": {},
   "outputs": [
    {
     "data": {
      "text/plain": [
       "'log Lik.' -235.3863 (df=2)"
      ]
     },
     "metadata": {},
     "output_type": "display_data"
    }
   ],
   "source": [
    "logLik(fit)"
   ]
  },
  {
   "cell_type": "code",
   "execution_count": 31,
   "metadata": {},
   "outputs": [
    {
     "data": {
      "image/png": "[encoded data removed]",
      "text/plain": [
       "plot without title"
      ]
     },
     "metadata": {},
     "output_type": "display_data"
    }
   ],
   "source": [
    "plot(d$x, d$y, pch=c(21,19)[d$f])\n",
    "xx <- seq(min(d$x), max(d$y), length=100)\n",
    "lines(xx, exp(1.29172 + 0.07566 * xx), lwd = 2)"
   ]
  },
  {
   "cell_type": "markdown",
   "metadata": {},
   "source": [
    "predict() でも描ける。"
   ]
  },
  {
   "cell_type": "code",
   "execution_count": 32,
   "metadata": {},
   "outputs": [
    {
     "data": {
      "image/png": "[encoded data removed]",
      "text/plain": [
       "plot without title"
      ]
     },
     "metadata": {},
     "output_type": "display_data"
    }
   ],
   "source": [
    "plot(d$x, d$y, pch=c(21,19)[d$f])\n",
    "yy <- predict(fit, newdata = data.frame(x = xx), type=\"response\")\n",
    "lines(xx, yy, lwd = 2)"
   ]
  },
  {
   "cell_type": "markdown",
   "metadata": {},
   "source": [
    "では、施肥効果 f を使った場合は？"
   ]
  },
  {
   "cell_type": "code",
   "execution_count": 33,
   "metadata": {},
   "outputs": [
    {
     "data": {
      "text/plain": [
       "\n",
       "Call:\n",
       "glm(formula = y ~ f, family = poisson(link = \"log\"), data = d)\n",
       "\n",
       "Deviance Residuals: \n",
       "     Min        1Q    Median        3Q       Max  \n",
       "-2.47515  -0.69941   0.04264   0.72467   2.25204  \n",
       "\n",
       "Coefficients:\n",
       "            Estimate Std. Error z value Pr(>|z|)    \n",
       "(Intercept)  2.05156    0.05070  40.463   <2e-16 ***\n",
       "fT           0.01277    0.07148   0.179    0.858    \n",
       "---\n",
       "Signif. codes:  0 ‘***’ 0.001 ‘**’ 0.01 ‘*’ 0.05 ‘.’ 0.1 ‘ ’ 1\n",
       "\n",
       "(Dispersion parameter for poisson family taken to be 1)\n",
       "\n",
       "    Null deviance: 89.507  on 99  degrees of freedom\n",
       "Residual deviance: 89.475  on 98  degrees of freedom\n",
       "AIC: 479.25\n",
       "\n",
       "Number of Fisher Scoring iterations: 4\n"
      ]
     },
     "metadata": {},
     "output_type": "display_data"
    }
   ],
   "source": [
    "fit.f <- glm(y ~ f, data = d, family = poisson(link = 'log'))\n",
    "summary(fit.f)"
   ]
  },
  {
   "cell_type": "markdown",
   "metadata": {},
   "source": [
    "わずかに、個体サイズ x だけを使った時より、誤差が大きくなっている。"
   ]
  },
  {
   "cell_type": "code",
   "execution_count": 34,
   "metadata": {},
   "outputs": [
    {
     "data": {
      "text/plain": [
       "'log Lik.' -237.6273 (df=2)"
      ]
     },
     "metadata": {},
     "output_type": "display_data"
    }
   ],
   "source": [
    "logLik(fit.f)"
   ]
  },
  {
   "cell_type": "markdown",
   "metadata": {},
   "source": [
    "では、素性総動員ではどうか？<br>\n",
    "施肥効果は逆にマイナスになる。"
   ]
  },
  {
   "cell_type": "code",
   "execution_count": 35,
   "metadata": {},
   "outputs": [
    {
     "data": {
      "text/plain": [
       "\n",
       "Call:\n",
       "glm(formula = y ~ x + f, family = poisson(link = \"log\"), data = d)\n",
       "\n",
       "Deviance Residuals: \n",
       "    Min       1Q   Median       3Q      Max  \n",
       "-2.3977  -0.7337  -0.2023   0.6795   2.4317  \n",
       "\n",
       "Coefficients:\n",
       "            Estimate Std. Error z value Pr(>|z|)    \n",
       "(Intercept)  1.26311    0.36963   3.417 0.000633 ***\n",
       "x            0.08007    0.03704   2.162 0.030620 *  \n",
       "fT          -0.03200    0.07438  -0.430 0.667035    \n",
       "---\n",
       "Signif. codes:  0 ‘***’ 0.001 ‘**’ 0.01 ‘*’ 0.05 ‘.’ 0.1 ‘ ’ 1\n",
       "\n",
       "(Dispersion parameter for poisson family taken to be 1)\n",
       "\n",
       "    Null deviance: 89.507  on 99  degrees of freedom\n",
       "Residual deviance: 84.808  on 97  degrees of freedom\n",
       "AIC: 476.59\n",
       "\n",
       "Number of Fisher Scoring iterations: 4\n"
      ]
     },
     "metadata": {},
     "output_type": "display_data"
    }
   ],
   "source": [
    "fit.all <- glm(y ~ x + f, data = d, family = poisson(link = 'log'))\n",
    "summary(fit.all)"
   ]
  },
  {
   "cell_type": "markdown",
   "metadata": {},
   "source": [
    "なんとか、誤差は一番小さくなっている。<br>\n",
    "でも、これが良いモデルとは限らない。（まだ「あてはまり」しか評価していない）"
   ]
  },
  {
   "cell_type": "code",
   "execution_count": 36,
   "metadata": {},
   "outputs": [
    {
     "data": {
      "text/plain": [
       "'log Lik.' -235.2937 (df=3)"
      ]
     },
     "metadata": {},
     "output_type": "display_data"
    }
   ],
   "source": [
    "logLik(fit.all)"
   ]
  },
  {
   "cell_type": "markdown",
   "metadata": {},
   "source": [
    "## 4章 GLMのモデル選択"
   ]
  },
  {
   "cell_type": "code",
   "execution_count": 37,
   "metadata": {},
   "outputs": [
    {
     "data": {
      "text/plain": [
       "\n",
       "Call:  glm(formula = y ~ x, family = poisson(link = \"log\"), data = d)\n",
       "\n",
       "Coefficients:\n",
       "(Intercept)            x  \n",
       "    1.29172      0.07566  \n",
       "\n",
       "Degrees of Freedom: 99 Total (i.e. Null);  98 Residual\n",
       "Null Deviance:\t    89.51 \n",
       "Residual Deviance: 84.99 \tAIC: 474.8"
      ]
     },
     "metadata": {},
     "output_type": "display_data"
    }
   ],
   "source": [
    "d <- read.csv('data3a.csv')\n",
    "fit <- glm(y ~ x, data = d, family = poisson(link = 'log'))\n",
    "fit"
   ]
  },
  {
   "cell_type": "markdown",
   "metadata": {},
   "source": [
    "この　Null Deviance　と Residual Deviance が何を示しているのか？ Null Deviance は、切片のみを用いた一定モデルの逸脱度（＝最大逸脱度）と、全データ点を追従したモデル（＝フルモデル）の逸脱度（＝最小逸脱度）の差を表している。 Residual Deviance は、与えられたモデルの逸脱度と、最小逸脱度の差を表している。"
   ]
  },
  {
   "cell_type": "markdown",
   "metadata": {},
   "source": [
    "### Given モデルの逸脱度"
   ]
  },
  {
   "cell_type": "code",
   "execution_count": 38,
   "metadata": {},
   "outputs": [
    {
     "data": {
      "text/plain": [
       "'log Lik.' 470.7725 (df=2)"
      ]
     },
     "metadata": {},
     "output_type": "display_data"
    }
   ],
   "source": [
    "-2 * logLik(fit)"
   ]
  },
  {
   "cell_type": "markdown",
   "metadata": {},
   "source": [
    "### フルモデルの逸脱度"
   ]
  },
  {
   "cell_type": "code",
   "execution_count": 39,
   "metadata": {},
   "outputs": [
    {
     "data": {
      "text/html": [
       "385.779505048992"
      ],
      "text/latex": [
       "385.779505048992"
      ],
      "text/markdown": [
       "385.779505048992"
      ],
      "text/plain": [
       "[1] 385.7795"
      ]
     },
     "metadata": {},
     "output_type": "display_data"
    }
   ],
   "source": [
    "-2 * sum(log(dpois(d$y, lambda = d$y)))"
   ]
  },
  {
   "cell_type": "code",
   "execution_count": 40,
   "metadata": {},
   "outputs": [
    {
     "data": {
      "text/html": [
       "84.992994951008"
      ],
      "text/latex": [
       "84.992994951008"
      ],
      "text/markdown": [
       "84.992994951008"
      ],
      "text/plain": [
       "[1] 84.99299"
      ]
     },
     "metadata": {},
     "output_type": "display_data"
    }
   ],
   "source": [
    "470.7725 - 385.779505048992"
   ]
  },
  {
   "cell_type": "markdown",
   "metadata": {},
   "source": [
    "ほぼ Residual Deviance に一致していることがわかる。\n",
    "\n",
    "一方、一定モデルの逸脱度は、"
   ]
  },
  {
   "cell_type": "code",
   "execution_count": 41,
   "metadata": {},
   "outputs": [
    {
     "data": {
      "text/plain": [
       "'log Lik.' 475.2864 (df=1)"
      ]
     },
     "metadata": {},
     "output_type": "display_data"
    }
   ],
   "source": [
    "fit <- glm(y ~ 1, data = d, family = poisson(link = 'log'))\n",
    "-2 * logLik(fit)"
   ]
  },
  {
   "cell_type": "code",
   "execution_count": 42,
   "metadata": {},
   "outputs": [
    {
     "data": {
      "text/html": [
       "89.506894951008"
      ],
      "text/latex": [
       "89.506894951008"
      ],
      "text/markdown": [
       "89.506894951008"
      ],
      "text/plain": [
       "[1] 89.50689"
      ]
     },
     "metadata": {},
     "output_type": "display_data"
    }
   ],
   "source": [
    "475.2864 - 385.779505048992"
   ]
  },
  {
   "cell_type": "markdown",
   "metadata": {},
   "source": [
    "ほぼ Null Deviance に一致していることがわかる。"
   ]
  },
  {
   "cell_type": "markdown",
   "metadata": {},
   "source": [
    "### 参考文献\n",
    "\n",
    "データ解析のための統計モデリング入門: 一般化線形モデル・階層ベイズモデル・MCMC<br>\n",
    "http://hosho.ees.hokudai.ac.jp/~kubo/ce/IwanamiBook.html\n",
    "\n",
    "一般化線形モデル（と ベイズ推定）<br>\n",
    "平成２７年 数理統計短期集合研修（応用編）<br>\n",
    "農環研・生物多様性研究領域，山村光司<br>\n",
    "http://cse.naro.affrc.go.jp/yamamura/Images/kenshuu_slide_glm_2015_applied.pdf\n",
    "\n",
    "第7章 一般化線形混合モデル まとめ<br>\n",
    "https://ysk24ok.github.io/2017/01/05/midoribon_section7.html\n",
    "\n",
    "「データ解析のための統計モデリング入門」読書ノート<br>\n",
    "7章 GLMMとGLMを比較する<br>\n",
    "http://yagays.github.io/blog/2012/11/02/glm-mcmc-chp7/"
   ]
  },
  {
   "cell_type": "code",
   "execution_count": null,
   "metadata": {},
   "outputs": [],
   "source": []
  }
 ],
 "metadata": {
  "kernelspec": {
   "display_name": "R",
   "language": "R",
   "name": "ir"
  },
  "language_info": {
   "codemirror_mode": "r",
   "file_extension": ".r",
   "mimetype": "text/x-r-source",
   "name": "R",
   "pygments_lexer": "r",
   "version": "3.4.2"
  }
 },
 "nbformat": 4,
 "nbformat_minor": 2
}
